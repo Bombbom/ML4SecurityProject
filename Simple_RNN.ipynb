{
  "nbformat": 4,
  "nbformat_minor": 0,
  "metadata": {
    "colab": {
      "provenance": [],
      "include_colab_link": true
    },
    "kernelspec": {
      "name": "python3",
      "display_name": "Python 3"
    },
    "language_info": {
      "name": "python"
    }
  },
  "cells": [
    {
      "cell_type": "markdown",
      "metadata": {
        "id": "view-in-github",
        "colab_type": "text"
      },
      "source": [
        "<a href=\"https://colab.research.google.com/github/Bombbom/ML4SecurityProject/blob/main/Simple_RNN.ipynb\" target=\"_parent\"><img src=\"https://colab.research.google.com/assets/colab-badge.svg\" alt=\"Open In Colab\"/></a>"
      ]
    },
    {
      "cell_type": "markdown",
      "source": [
        "# Simple RNN"
      ],
      "metadata": {
        "id": "P0vUrcRqXT05"
      }
    },
    {
      "cell_type": "code",
      "source": [
        "import pandas as pd\n",
        "# vector_filename =\"/home/bombbom/Desktop/ReChecker/reentrancy_1671_fragment_vectors.pkl\"\n",
        "vector_filename = \"/home/bombbom/Desktop/ReChecker/infinite_loop_1317_fragment_vectors.pkl\"\n",
        "data = pd.read_pickle(vector_filename)"
      ],
      "metadata": {
        "id": "3SPvpcxmXThC"
      },
      "execution_count": null,
      "outputs": []
    },
    {
      "cell_type": "code",
      "source": [
        "from __future__ import print_function\n",
        "\n",
        "import warnings\n",
        "import numpy as np\n",
        "# from keras.utils import to_categorical\n",
        "# from sklearn.metrics import confusion_matrix\n",
        "# from sklearn.utils import compute_class_weight\n",
        "# from keras.models import Sequential\n",
        "# from keras.layers import Dense, Dropout, LSTM, ReLU, Activation\n",
        "# from keras.layers.recurrent import SimpleRNN\n",
        "# from keras.layers import SimpleRNN\n",
        "# from keras.optimizers import Adamax\n",
        "# from sklearn.model_selection import train_test_split\n",
        "# from parser import parameter_parser\n",
        "\n",
        "\n",
        "from tensorflow.keras.models import Sequential \n",
        "from tensorflow.keras.layers import Embedding, SimpleRNN, Dense, Dropout, LSTM, ReLU, Activation\n",
        "from sklearn.model_selection import train_test_split\n",
        "from tensorflow.keras.optimizers import Adamax\n",
        "from parser import parameter_parser\n",
        "# from sklearn.utils import compute_class_weight\n",
        "from keras.utils import to_categorical\n",
        "from sklearn.metrics import confusion_matrix\n",
        "from sklearn.utils import class_weight"
      ],
      "metadata": {
        "id": "nfDyyrPQXgXb"
      },
      "execution_count": null,
      "outputs": []
    },
    {
      "cell_type": "code",
      "source": [
        "vectors = np.stack(data.iloc[:, 0].values)\n",
        "# vectors = vectors.reshape()\n",
        "labels = data.iloc[:, 1].values"
      ],
      "metadata": {
        "id": "saRGH4pXXkGA"
      },
      "execution_count": null,
      "outputs": []
    },
    {
      "cell_type": "code",
      "source": [
        "positive_idxs = np.where(labels == 1)[0]\n",
        "negative_idxs = np.where(labels == 0)[0]\n",
        "idxs = np.concatenate([positive_idxs, negative_idxs])\n",
        "undersampled_negative_idxs = np.random.choice(negative_idxs, len(positive_idxs), replace=False)\n",
        "resampled_idxs = np.concatenate([positive_idxs, undersampled_negative_idxs])\n",
        "x_train, x_test, y_train, y_test = train_test_split(vectors[resampled_idxs], labels[resampled_idxs],train_size=0.8,random_state=1, stratify=labels[resampled_idxs])"
      ],
      "metadata": {
        "id": "HBX9vUjPXlsE"
      },
      "execution_count": null,
      "outputs": []
    },
    {
      "cell_type": "code",
      "source": [
        "y_train = to_categorical(y_train)\n",
        "y_test = to_categorical(y_test)"
      ],
      "metadata": {
        "id": "ZHD1xQDSXm8c"
      },
      "execution_count": null,
      "outputs": []
    },
    {
      "cell_type": "code",
      "source": [
        "dropout = 0.2\n",
        "# y_train = to_categorical(y_train)\n",
        "lr = 0.002\n",
        "batch_size = 64\n",
        "epochs = 10\n",
        "threshold = 0.5\n",
        "# def create_model():\n",
        "#     model = Sequential()\n",
        "#     model.add(SimpleRNN(300, input_shape=(vectors.shape[1], vectors.shape[2])))\n",
        "#     model.add(ReLU())\n",
        "#     model.add(Dropout(dropout))\n",
        "#     model.add(Dense(300))\n",
        "#     model.add(ReLU())\n",
        "#     model.add(Dropout(dropout))\n",
        "#     model.add(Dense(2, activation='softmax'))\n",
        "#     return model\n",
        "class_weights =  class_weight.compute_class_weight(class_weight='balanced', classes=[0, 1], y=labels)\n",
        "adamax = Adamax(lr)\n",
        "model = Sequential()\n",
        "model.add(SimpleRNN(300, input_shape=(vectors.shape[1], vectors.shape[2])))\n",
        "model.add(ReLU())\n",
        "model.add(Dropout(dropout))\n",
        "model.add(Dense(300))\n",
        "model.add(ReLU())\n",
        "model.add(Dropout(dropout))\n",
        "model.add(Dense(2, activation='softmax'))\n"
      ],
      "metadata": {
        "id": "b10l_BBgXwk5"
      },
      "execution_count": null,
      "outputs": []
    },
    {
      "cell_type": "code",
      "source": [
        "model.compile(loss='binary_crossentropy', optimizer=adamax, metrics=['accuracy'])\n",
        "model.fit(x_train, y_train, epochs=epochs, batch_size=batch_size)"
      ],
      "metadata": {
        "id": "FeFqStmHXx-Y"
      },
      "execution_count": null,
      "outputs": []
    },
    {
      "cell_type": "code",
      "source": [
        "# evaluate the keras model\n",
        "_, accuracy = model.evaluate(x_test, y_test)\n",
        "print('Accuracy: %.2f' % (accuracy*100))"
      ],
      "metadata": {
        "id": "FR05OSd7Xzen"
      },
      "execution_count": null,
      "outputs": []
    },
    {
      "cell_type": "code",
      "source": [
        "predictions = (model.predict(x_test, batch_size=batch_size)).round()\n",
        "predictions = (predictions >= threshold)"
      ],
      "metadata": {
        "id": "yeQ1JMi1X0kF"
      },
      "execution_count": null,
      "outputs": []
    },
    {
      "cell_type": "code",
      "source": [
        "tn, fp, fn, tp = confusion_matrix(np.argmax(y_test, axis=1), np.argmax(predictions, axis=1)).ravel()"
      ],
      "metadata": {
        "id": "cbhhxTFxX3Ae"
      },
      "execution_count": null,
      "outputs": []
    },
    {
      "cell_type": "code",
      "source": [
        "print(\"Accuracy: \", (tp + tn) / (tp + tn + fp + fn))\n",
        "print('False positive rate(FPR): ', fp / (fp + tn))\n",
        "print('False negative rate(FNR): ', fn / (fn + tp))\n",
        "recall = tp / (tp + fn)\n",
        "print('Recall(TPR): ', recall)\n",
        "precision = tp / (tp + fp)\n",
        "print('Precision: ', precision)\n",
        "print('F1 score: ', (2 * precision * recall) / (precision + recall))"
      ],
      "metadata": {
        "id": "Wb48xzrwX4mT"
      },
      "execution_count": null,
      "outputs": []
    }
  ]
}