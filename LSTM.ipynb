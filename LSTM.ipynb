{
  "nbformat": 4,
  "nbformat_minor": 0,
  "metadata": {
    "colab": {
      "provenance": [],
      "toc_visible": true,
      "include_colab_link": true
    },
    "kernelspec": {
      "name": "python3",
      "display_name": "Python 3"
    },
    "language_info": {
      "name": "python"
    }
  },
  "cells": [
    {
      "cell_type": "markdown",
      "metadata": {
        "id": "view-in-github",
        "colab_type": "text"
      },
      "source": [
        "<a href=\"https://colab.research.google.com/github/Bombbom/ML4SecurityProject/blob/main/LSTM.ipynb\" target=\"_parent\"><img src=\"https://colab.research.google.com/assets/colab-badge.svg\" alt=\"Open In Colab\"/></a>"
      ]
    },
    {
      "cell_type": "markdown",
      "source": [
        "# LSTM \n",
        "\n"
      ],
      "metadata": {
        "id": "PD_GblENW2yG"
      }
    },
    {
      "cell_type": "code",
      "source": [
        "from google.colab import drive\n",
        "drive.mount('/content/drive')"
      ],
      "metadata": {
        "id": "TmZgo41KIb68",
        "outputId": "070afe3b-372d-49f1-b171-48afdf7f306b",
        "colab": {
          "base_uri": "https://localhost:8080/"
        }
      },
      "execution_count": 1,
      "outputs": [
        {
          "output_type": "stream",
          "name": "stdout",
          "text": [
            "Mounted at /content/drive\n"
          ]
        }
      ]
    },
    {
      "cell_type": "code",
      "execution_count": 2,
      "metadata": {
        "id": "bAUsc_fMW18S"
      },
      "outputs": [],
      "source": [
        "import pandas as pd\n",
        "data = pd.read_pickle(\"/content/drive/MyDrive/Submit/NT522_Project/dataset_10000_record_fixed_fragment_vectors.pkl\")"
      ]
    },
    {
      "cell_type": "code",
      "source": [
        "from __future__ import print_function\n",
        "\n",
        "import warnings\n",
        "import numpy as np\n",
        "\n",
        "from tensorflow.keras.models import Sequential \n",
        "from tensorflow.keras.layers import Embedding, SimpleRNN, Dense, Dropout, LSTM, ReLU, Activation, Bidirectional\n",
        "from sklearn.model_selection import train_test_split\n",
        "from tensorflow.keras.optimizers import Adamax\n",
        "from keras.utils import to_categorical\n",
        "from sklearn.metrics import confusion_matrix\n",
        "from sklearn.utils import class_weight, compute_class_weight\n",
        "\n",
        "#from parser import parameter_parser\n",
        "from tensorflow.keras.layers import Layer\n",
        "#from models.loss_draw import LossHistory\n",
        "from keras import backend as K\n",
        "from keras import initializers, regularizers, constraints"
      ],
      "metadata": {
        "id": "6TsCKqGwYQJA"
      },
      "execution_count": 3,
      "outputs": []
    },
    {
      "cell_type": "code",
      "source": [
        "vectors = np.stack(data.iloc[:, 0].values)\n",
        "# vectors = vectors.reshape()\n",
        "labels = data.iloc[:, 1].values"
      ],
      "metadata": {
        "id": "u4wxuh6IYRWO"
      },
      "execution_count": 4,
      "outputs": []
    },
    {
      "cell_type": "code",
      "source": [
        "positive_idxs = np.where(labels == 1)[0]\n",
        "negative_idxs = np.where(labels == 0)[0]\n",
        "idxs = np.concatenate([positive_idxs, negative_idxs])\n",
        "undersampled_negative_idxs = np.random.choice(negative_idxs, len(positive_idxs), replace=True)\n",
        "resampled_idxs = np.concatenate([positive_idxs, undersampled_negative_idxs])\n",
        "x_train, x_test, y_train, y_test = train_test_split(vectors[resampled_idxs], labels[resampled_idxs],train_size=0.8,random_state=1, stratify=labels[resampled_idxs])"
      ],
      "metadata": {
        "id": "XHk9VQrIYTNv"
      },
      "execution_count": 5,
      "outputs": []
    },
    {
      "cell_type": "code",
      "source": [
        "y_train = to_categorical(y_train)\n",
        "y_test = to_categorical(y_test)"
      ],
      "metadata": {
        "id": "b2FGA4A2YUiV"
      },
      "execution_count": 6,
      "outputs": []
    },
    {
      "cell_type": "code",
      "source": [
        "dropout = 0.2\n",
        "# y_train = to_categorical(y_train)\n",
        "lr = 0.002\n",
        "batch_size = 64\n",
        "epochs = 10\n",
        "threshold = 0.5\n",
        "  \n",
        "class_weights =  class_weight.compute_class_weight(class_weight='balanced', classes=[0, 1], y=labels)\n",
        "adamax = Adamax(lr)\n",
        "model = Sequential()\n",
        "model.add(LSTM(300, input_shape=(vectors.shape[1], vectors.shape[2])))\n",
        "model.add(ReLU())\n",
        "model.add(Dropout(dropout))\n",
        "model.add(Dense(300))\n",
        "model.add(ReLU())\n",
        "model.add(Dropout(dropout))\n",
        "model.add(Dense(2, activation='softmax'))"
      ],
      "metadata": {
        "id": "4B_pJuG2YXMU"
      },
      "execution_count": 7,
      "outputs": []
    },
    {
      "cell_type": "code",
      "source": [
        "#Tính và lưu trữ kết quả accuracy\n",
        "model.compile(loss='binary_crossentropy', optimizer=adamax, metrics=['accuracy'])\n",
        "model.fit(x_train, y_train, epochs=epochs, batch_size=batch_size)"
      ],
      "metadata": {
        "id": "QeHF4VFCYYhD",
        "outputId": "236ca708-73fd-46ed-d00a-d8a428587d9a",
        "colab": {
          "base_uri": "https://localhost:8080/"
        }
      },
      "execution_count": 8,
      "outputs": [
        {
          "output_type": "stream",
          "name": "stdout",
          "text": [
            "Epoch 1/10\n",
            "125/125 [==============================] - 137s 1s/step - loss: 0.5358 - accuracy: 0.6985\n",
            "Epoch 2/10\n",
            "125/125 [==============================] - 124s 997ms/step - loss: 0.4564 - accuracy: 0.7508\n",
            "Epoch 3/10\n",
            "125/125 [==============================] - 135s 1s/step - loss: 0.4273 - accuracy: 0.7709\n",
            "Epoch 4/10\n",
            "125/125 [==============================] - 135s 1s/step - loss: 0.4033 - accuracy: 0.7856\n",
            "Epoch 5/10\n",
            "125/125 [==============================] - 133s 1s/step - loss: 0.3888 - accuracy: 0.7935\n",
            "Epoch 6/10\n",
            "125/125 [==============================] - 140s 1s/step - loss: 0.3689 - accuracy: 0.8089\n",
            "Epoch 7/10\n",
            "125/125 [==============================] - 144s 1s/step - loss: 0.3534 - accuracy: 0.8190\n",
            "Epoch 8/10\n",
            "125/125 [==============================] - 143s 1s/step - loss: 0.3437 - accuracy: 0.8284\n",
            "Epoch 9/10\n",
            "125/125 [==============================] - 138s 1s/step - loss: 0.3325 - accuracy: 0.8404\n",
            "Epoch 10/10\n",
            "125/125 [==============================] - 155s 1s/step - loss: 0.3217 - accuracy: 0.8411\n"
          ]
        },
        {
          "output_type": "execute_result",
          "data": {
            "text/plain": [
              "<keras.callbacks.History at 0x7f78797e2c40>"
            ]
          },
          "metadata": {},
          "execution_count": 8
        }
      ]
    },
    {
      "cell_type": "code",
      "source": [
        "_, accuracy_test = model.evaluate(x_test, y_test)\n",
        "print(accuracy_test)\n",
        "_, accuracy_train = model.evaluate(x_train, y_train)\n",
        "print(accuracy_train)\n",
        "values = model.evaluate(x_test, y_test, batch_size=batch_size, verbose=1)\n",
        "predictions = (model.predict(x_test, batch_size=batch_size)).round()\n",
        "\n",
        "tn, fp, fn, tp = confusion_matrix(np.argmax(y_test, axis=1), np.argmax(predictions, axis=1)).ravel()\n",
        "FPR=fp / (fp + tn)\n",
        "print(FPR)\n",
        "FNR= fn / (fn + tp)\n",
        "print(FNR)\n",
        "recall = tp / (tp + fn)\n",
        "print(recall)\n",
        "precision = tp / (tp + fp)\n",
        "print(precision)\n",
        "F1=(2 * precision * recall) / (precision + recall)\n",
        "print(F1)\n",
        "# storeResults(\"LSTM\",(accuracy_train*100),(accuracy_test*100),recall*100,FPR*100,precision*100, F1*100)"
      ],
      "metadata": {
        "id": "cxkDqqyxYZ-5",
        "outputId": "2e52e348-99d3-4e76-b76e-255c75ed7fce",
        "colab": {
          "base_uri": "https://localhost:8080/"
        }
      },
      "execution_count": 10,
      "outputs": [
        {
          "output_type": "stream",
          "name": "stdout",
          "text": [
            "63/63 [==============================] - 10s 165ms/step - loss: 0.3735 - accuracy: 0.8320\n",
            "0.8320000171661377\n",
            "250/250 [==============================] - 42s 168ms/step - loss: 0.2953 - accuracy: 0.8601\n",
            "0.8601250052452087\n",
            "32/32 [==============================] - 9s 272ms/step - loss: 0.3735 - accuracy: 0.8320\n",
            "32/32 [==============================] - 9s 273ms/step\n",
            "0.15\n",
            "0.186\n",
            "0.814\n",
            "0.8443983402489627\n",
            "0.8289205702647657\n"
          ]
        }
      ]
    },
    {
      "cell_type": "code",
      "source": [
        "print(tn,fp,fn,tp)"
      ],
      "metadata": {
        "id": "P8r0oKXlJMBC",
        "outputId": "72625d75-9f9a-47d4-affa-a74eaf25c4c5",
        "colab": {
          "base_uri": "https://localhost:8080/"
        }
      },
      "execution_count": 11,
      "outputs": [
        {
          "output_type": "stream",
          "name": "stdout",
          "text": [
            "850 150 186 814\n"
          ]
        }
      ]
    }
  ]
}