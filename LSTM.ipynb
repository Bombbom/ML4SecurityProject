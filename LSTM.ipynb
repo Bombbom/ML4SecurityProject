{
  "nbformat": 4,
  "nbformat_minor": 0,
  "metadata": {
    "colab": {
      "provenance": [],
      "include_colab_link": true
    },
    "kernelspec": {
      "name": "python3",
      "display_name": "Python 3"
    },
    "language_info": {
      "name": "python"
    }
  },
  "cells": [
    {
      "cell_type": "markdown",
      "metadata": {
        "id": "view-in-github",
        "colab_type": "text"
      },
      "source": [
        "<a href=\"https://colab.research.google.com/github/Bombbom/ML4SecurityProject/blob/main/LSTM.ipynb\" target=\"_parent\"><img src=\"https://colab.research.google.com/assets/colab-badge.svg\" alt=\"Open In Colab\"/></a>"
      ]
    },
    {
      "cell_type": "markdown",
      "source": [
        "# LSTM \n",
        "\n"
      ],
      "metadata": {
        "id": "PD_GblENW2yG"
      }
    },
    {
      "cell_type": "code",
      "execution_count": null,
      "metadata": {
        "id": "bAUsc_fMW18S"
      },
      "outputs": [],
      "source": [
        "import pandas as pd\n",
        "data = pd.read_pickle(\"/content/drive/MyDrive/DACN/dataset_fragment_vectors.pkl\")"
      ]
    },
    {
      "cell_type": "code",
      "source": [
        "from __future__ import print_function\n",
        "\n",
        "import warnings\n",
        "import numpy as np\n",
        "\n",
        "from tensorflow.keras.models import Sequential \n",
        "from tensorflow.keras.layers import Embedding, SimpleRNN, Dense, Dropout, LSTM, ReLU, Activation, Bidirectional\n",
        "from sklearn.model_selection import train_test_split\n",
        "from tensorflow.keras.optimizers import Adamax\n",
        "from keras.utils import to_categorical\n",
        "from sklearn.metrics import confusion_matrix\n",
        "from sklearn.utils import class_weight, compute_class_weight\n",
        "\n",
        "#from parser import parameter_parser\n",
        "from tensorflow.keras.layers import Layer\n",
        "#from models.loss_draw import LossHistory\n",
        "from keras import backend as K\n",
        "from keras import initializers, regularizers, constraints"
      ],
      "metadata": {
        "id": "6TsCKqGwYQJA"
      },
      "execution_count": null,
      "outputs": []
    },
    {
      "cell_type": "code",
      "source": [
        "vectors = np.stack(data.iloc[:, 0].values)\n",
        "# vectors = vectors.reshape()\n",
        "labels = data.iloc[:, 1].values"
      ],
      "metadata": {
        "id": "u4wxuh6IYRWO"
      },
      "execution_count": null,
      "outputs": []
    },
    {
      "cell_type": "code",
      "source": [
        "positive_idxs = np.where(labels == 1)[0]\n",
        "negative_idxs = np.where(labels == 0)[0]\n",
        "idxs = np.concatenate([positive_idxs, negative_idxs])\n",
        "undersampled_negative_idxs = np.random.choice(negative_idxs, len(positive_idxs), replace=True)\n",
        "resampled_idxs = np.concatenate([positive_idxs, undersampled_negative_idxs])\n",
        "x_train, x_test, y_train, y_test = train_test_split(vectors[resampled_idxs], labels[resampled_idxs],train_size=0.8,random_state=1, stratify=labels[resampled_idxs])"
      ],
      "metadata": {
        "id": "XHk9VQrIYTNv"
      },
      "execution_count": null,
      "outputs": []
    },
    {
      "cell_type": "code",
      "source": [
        "y_train = to_categorical(y_train)\n",
        "y_test = to_categorical(y_test)"
      ],
      "metadata": {
        "id": "b2FGA4A2YUiV"
      },
      "execution_count": null,
      "outputs": []
    },
    {
      "cell_type": "code",
      "source": [
        "dropout = 0.2\n",
        "# y_train = to_categorical(y_train)\n",
        "lr = 0.002\n",
        "batch_size = 64\n",
        "epochs = 10\n",
        "threshold = 0.5\n",
        "  \n",
        "class_weights =  class_weight.compute_class_weight(class_weight='balanced', classes=[0, 1], y=labels)\n",
        "adamax = Adamax(lr)\n",
        "model = Sequential()\n",
        "model.add(LSTM(300, input_shape=(vectors.shape[1], vectors.shape[2])))\n",
        "model.add(ReLU())\n",
        "model.add(Dropout(dropout))\n",
        "model.add(Dense(300))\n",
        "model.add(ReLU())\n",
        "model.add(Dropout(dropout))\n",
        "model.add(Dense(2, activation='softmax'))"
      ],
      "metadata": {
        "id": "4B_pJuG2YXMU"
      },
      "execution_count": null,
      "outputs": []
    },
    {
      "cell_type": "code",
      "source": [
        "#Tính và lưu trữ kết quả accuracy\n",
        "model.compile(loss='binary_crossentropy', optimizer=adamax, metrics=['accuracy'])\n",
        "model.fit(x_train, y_train, epochs=epochs, batch_size=batch_size)"
      ],
      "metadata": {
        "id": "QeHF4VFCYYhD"
      },
      "execution_count": null,
      "outputs": []
    },
    {
      "cell_type": "code",
      "source": [
        "_, accuracy_test = model.evaluate(x_test, y_test)\n",
        "_, accuracy_train = model.evaluate(x_train, y_train)\n",
        "values = model.evaluate(x_test, y_test, batch_size=batch_size, verbose=1)\n",
        "predictions = (model.predict(x_test, batch_size=batch_size)).round()\n",
        "tn, fp, fn, tp = confusion_matrix(np.argmax(y_test, axis=1), np.argmax(predictions, axis=1)).ravel()\n",
        "FPR=fp / (fp + tn)\n",
        "FNR= fn / (fn + tp)\n",
        "recall = tp / (tp + fn)\n",
        "precision = tp / (tp + fp)\n",
        "F1=(2 * precision * recall) / (precision + recall)\n",
        "storeResults(\"LSTM\",(accuracy_train*100),(accuracy_test*100),recall*100,FPR*100,precision*100, F1*100)"
      ],
      "metadata": {
        "id": "cxkDqqyxYZ-5"
      },
      "execution_count": null,
      "outputs": []
    }
  ]
}