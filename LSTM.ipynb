{
  "nbformat": 4,
  "nbformat_minor": 0,
  "metadata": {
    "colab": {
      "provenance": [],
      "include_colab_link": true
    },
    "kernelspec": {
      "name": "python3",
      "display_name": "Python 3"
    },
    "language_info": {
      "name": "python"
    }
  },
  "cells": [
    {
      "cell_type": "markdown",
      "metadata": {
        "id": "view-in-github",
        "colab_type": "text"
      },
      "source": [
        "<a href=\"https://colab.research.google.com/github/Bombbom/ML4SecurityProject/blob/main/LSTM.ipynb\" target=\"_parent\"><img src=\"https://colab.research.google.com/assets/colab-badge.svg\" alt=\"Open In Colab\"/></a>"
      ]
    },
    {
      "cell_type": "markdown",
      "source": [
        "# LSTM \n",
        "\n"
      ],
      "metadata": {
        "id": "PD_GblENW2yG"
      }
    },
    {
      "cell_type": "code",
      "source": [
        "from google.colab import drive\n",
        "drive.mount('/content/drive')"
      ],
      "metadata": {
        "id": "TmZgo41KIb68",
        "outputId": "5ffeb4c1-42e1-4445-8e24-dd7e68be1032",
        "colab": {
          "base_uri": "https://localhost:8080/"
        }
      },
      "execution_count": 1,
      "outputs": [
        {
          "output_type": "stream",
          "name": "stdout",
          "text": [
            "Mounted at /content/drive\n"
          ]
        }
      ]
    },
    {
      "cell_type": "code",
      "execution_count": 2,
      "metadata": {
        "id": "bAUsc_fMW18S"
      },
      "outputs": [],
      "source": [
        "import pandas as pd\n",
        "data = pd.read_pickle(\"/content/drive/MyDrive/Submit/NT522_Project/dataset_10000_record_fixed_fragment_vectors.pkl\")"
      ]
    },
    {
      "cell_type": "code",
      "source": [
        "from __future__ import print_function\n",
        "\n",
        "import warnings\n",
        "import numpy as np\n",
        "\n",
        "from tensorflow.keras.models import Sequential \n",
        "from tensorflow.keras.layers import Embedding, SimpleRNN, Dense, Dropout, LSTM, ReLU, Activation, Bidirectional\n",
        "from sklearn.model_selection import train_test_split\n",
        "from tensorflow.keras.optimizers import Adamax\n",
        "from keras.utils import to_categorical\n",
        "from sklearn.metrics import confusion_matrix\n",
        "from sklearn.utils import class_weight, compute_class_weight\n",
        "\n",
        "#from parser import parameter_parser\n",
        "from tensorflow.keras.layers import Layer\n",
        "#from models.loss_draw import LossHistory\n",
        "from keras import backend as K\n",
        "from keras import initializers, regularizers, constraints"
      ],
      "metadata": {
        "id": "6TsCKqGwYQJA"
      },
      "execution_count": 3,
      "outputs": []
    },
    {
      "cell_type": "code",
      "source": [
        "vectors = np.stack(data.iloc[:, 0].values)\n",
        "# vectors = vectors.reshape()\n",
        "labels = data.iloc[:, 1].values"
      ],
      "metadata": {
        "id": "u4wxuh6IYRWO"
      },
      "execution_count": 4,
      "outputs": []
    },
    {
      "cell_type": "code",
      "source": [
        "positive_idxs = np.where(labels == 1)[0]\n",
        "negative_idxs = np.where(labels == 0)[0]\n",
        "idxs = np.concatenate([positive_idxs, negative_idxs])\n",
        "undersampled_negative_idxs = np.random.choice(negative_idxs, len(positive_idxs), replace=True)\n",
        "resampled_idxs = np.concatenate([positive_idxs, undersampled_negative_idxs])\n",
        "x_train, x_test, y_train, y_test = train_test_split(vectors[resampled_idxs], labels[resampled_idxs],train_size=0.8,random_state=1, stratify=labels[resampled_idxs])"
      ],
      "metadata": {
        "id": "XHk9VQrIYTNv"
      },
      "execution_count": 5,
      "outputs": []
    },
    {
      "cell_type": "code",
      "source": [
        "y_train = to_categorical(y_train)\n",
        "y_test = to_categorical(y_test)"
      ],
      "metadata": {
        "id": "b2FGA4A2YUiV"
      },
      "execution_count": 6,
      "outputs": []
    },
    {
      "cell_type": "code",
      "source": [
        "dropout = 0.2\n",
        "# y_train = to_categorical(y_train)\n",
        "lr = 0.002\n",
        "batch_size = 64\n",
        "epochs = 10\n",
        "threshold = 0.5\n",
        "  \n",
        "class_weights =  class_weight.compute_class_weight(class_weight='balanced', classes=[0, 1], y=labels)\n",
        "adamax = Adamax(lr)\n",
        "model = Sequential()\n",
        "model.add(LSTM(300, input_shape=(vectors.shape[1], vectors.shape[2])))\n",
        "model.add(ReLU())\n",
        "model.add(Dropout(dropout))\n",
        "model.add(Dense(300))\n",
        "model.add(ReLU())\n",
        "model.add(Dropout(dropout))\n",
        "model.add(Dense(2, activation='softmax'))"
      ],
      "metadata": {
        "id": "4B_pJuG2YXMU"
      },
      "execution_count": 7,
      "outputs": []
    },
    {
      "cell_type": "code",
      "source": [
        "#Tính và lưu trữ kết quả accuracy\n",
        "model.compile(loss='binary_crossentropy', optimizer=adamax, metrics=['accuracy'])\n",
        "model.fit(x_train, y_train, epochs=epochs, batch_size=batch_size)"
      ],
      "metadata": {
        "id": "QeHF4VFCYYhD",
        "outputId": "00d140a3-84bd-4fa1-e728-c9511506c925",
        "colab": {
          "base_uri": "https://localhost:8080/"
        }
      },
      "execution_count": 8,
      "outputs": [
        {
          "output_type": "stream",
          "name": "stdout",
          "text": [
            "Epoch 1/10\n",
            "125/125 [==============================] - 164s 1s/step - loss: 0.5313 - accuracy: 0.7051\n",
            "Epoch 2/10\n",
            "125/125 [==============================] - 161s 1s/step - loss: 0.4538 - accuracy: 0.7617\n",
            "Epoch 3/10\n",
            "125/125 [==============================] - 141s 1s/step - loss: 0.4236 - accuracy: 0.7831\n",
            "Epoch 4/10\n",
            "125/125 [==============================] - 113s 910ms/step - loss: 0.3998 - accuracy: 0.7964\n",
            "Epoch 5/10\n",
            "125/125 [==============================] - 122s 976ms/step - loss: 0.3784 - accuracy: 0.8087\n",
            "Epoch 6/10\n",
            "125/125 [==============================] - 134s 1s/step - loss: 0.3591 - accuracy: 0.8266\n",
            "Epoch 7/10\n",
            "125/125 [==============================] - 132s 1s/step - loss: 0.3443 - accuracy: 0.8365\n",
            "Epoch 8/10\n",
            "125/125 [==============================] - 138s 1s/step - loss: 0.3328 - accuracy: 0.8460\n",
            "Epoch 9/10\n",
            "125/125 [==============================] - 121s 959ms/step - loss: 0.3126 - accuracy: 0.8547\n",
            "Epoch 10/10\n",
            "125/125 [==============================] - 105s 845ms/step - loss: 0.3057 - accuracy: 0.8537\n"
          ]
        },
        {
          "output_type": "execute_result",
          "data": {
            "text/plain": [
              "<keras.callbacks.History at 0x7fc5ace54520>"
            ]
          },
          "metadata": {},
          "execution_count": 8
        }
      ]
    },
    {
      "cell_type": "code",
      "source": [
        "_, accuracy_test = model.evaluate(x_test, y_test)\n",
        "_, accuracy_train = model.evaluate(x_train, y_train)\n",
        "values = model.evaluate(x_test, y_test, batch_size=batch_size, verbose=1)\n",
        "predictions = (model.predict(x_test, batch_size=batch_size)).round()\n",
        "tn, fp, fn, tp = confusion_matrix(np.argmax(y_test, axis=1), np.argmax(predictions, axis=1)).ravel()\n",
        "FPR=fp / (fp + tn)\n",
        "FNR= fn / (fn + tp)\n",
        "recall = tp / (tp + fn)\n",
        "precision = tp / (tp + fp)\n",
        "F1=(2 * precision * recall) / (precision + recall)\n",
        "# storeResults(\"LSTM\",(accuracy_train*100),(accuracy_test*100),recall*100,FPR*100,precision*100, F1*100)"
      ],
      "metadata": {
        "id": "cxkDqqyxYZ-5",
        "outputId": "a4869768-f112-4308-d2b2-5ab0de56d579",
        "colab": {
          "base_uri": "https://localhost:8080/"
        }
      },
      "execution_count": 9,
      "outputs": [
        {
          "output_type": "stream",
          "name": "stdout",
          "text": [
            "63/63 [==============================] - 11s 158ms/step - loss: 0.3601 - accuracy: 0.8370\n",
            "250/250 [==============================] - 38s 150ms/step - loss: 0.2862 - accuracy: 0.8666\n",
            "32/32 [==============================] - 8s 240ms/step - loss: 0.3601 - accuracy: 0.8370\n",
            "32/32 [==============================] - 9s 269ms/step\n"
          ]
        }
      ]
    },
    {
      "cell_type": "code",
      "source": [
        "print(tn,fp,fn,tp)"
      ],
      "metadata": {
        "id": "P8r0oKXlJMBC",
        "outputId": "052d7b62-ba1c-41b2-eb62-c89f1055898c",
        "colab": {
          "base_uri": "https://localhost:8080/"
        }
      },
      "execution_count": 10,
      "outputs": [
        {
          "output_type": "stream",
          "name": "stdout",
          "text": [
            "929 71 255 745\n"
          ]
        }
      ]
    }
  ]
}