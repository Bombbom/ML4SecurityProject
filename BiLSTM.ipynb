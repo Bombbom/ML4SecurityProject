{
  "nbformat": 4,
  "nbformat_minor": 0,
  "metadata": {
    "colab": {
      "provenance": [],
      "include_colab_link": true
    },
    "kernelspec": {
      "name": "python3",
      "display_name": "Python 3"
    },
    "language_info": {
      "name": "python"
    }
  },
  "cells": [
    {
      "cell_type": "markdown",
      "metadata": {
        "id": "view-in-github",
        "colab_type": "text"
      },
      "source": [
        "<a href=\"https://colab.research.google.com/github/Bombbom/ML4SecurityProject/blob/main/BiLSTM.ipynb\" target=\"_parent\"><img src=\"https://colab.research.google.com/assets/colab-badge.svg\" alt=\"Open In Colab\"/></a>"
      ]
    },
    {
      "cell_type": "markdown",
      "source": [
        "## BiLSTM"
      ],
      "metadata": {
        "id": "HrAABtlkV-kY"
      }
    },
    {
      "cell_type": "code",
      "source": [
        "from google.colab import drive\n",
        "drive.mount('/content/drive')"
      ],
      "metadata": {
        "id": "GYUxCjV07DGy",
        "outputId": "6a21b3b4-3d71-44b0-baac-287687a36dc1",
        "colab": {
          "base_uri": "https://localhost:8080/"
        }
      },
      "execution_count": 1,
      "outputs": [
        {
          "output_type": "stream",
          "name": "stdout",
          "text": [
            "Mounted at /content/drive\n"
          ]
        }
      ]
    },
    {
      "cell_type": "code",
      "source": [
        "import pandas as pd\n",
        "data = pd.read_pickle(\"/content/drive/MyDrive/Submit/NT522_Project/dataset_10000_record_fixed_fragment_vectors.pkl\")"
      ],
      "metadata": {
        "id": "Rmn_UMJ4YlcK"
      },
      "execution_count": 2,
      "outputs": []
    },
    {
      "cell_type": "code",
      "source": [
        "from __future__ import print_function\n",
        "\n",
        "import warnings\n",
        "import numpy as np\n",
        "\n",
        "from tensorflow.keras.models import Sequential \n",
        "from tensorflow.keras.layers import Embedding, SimpleRNN, Dense, Dropout, LSTM, ReLU, Activation, Bidirectional\n",
        "from sklearn.model_selection import train_test_split\n",
        "from tensorflow.keras.optimizers import Adamax\n",
        "from keras.utils import to_categorical\n",
        "from sklearn.metrics import confusion_matrix\n",
        "from sklearn.utils import class_weight, compute_class_weight\n",
        "\n",
        "#from parser import parameter_parser\n",
        "from tensorflow.keras.layers import Layer\n",
        "#from models.loss_draw import LossHistory\n",
        "from keras import backend as K\n",
        "from keras import initializers, regularizers, constraints"
      ],
      "metadata": {
        "id": "nT2GSjzvYqON"
      },
      "execution_count": 3,
      "outputs": []
    },
    {
      "cell_type": "code",
      "source": [
        "vectors = np.stack(data.iloc[:, 0].values)\n",
        "# vectors = vectors.reshape()\n",
        "labels = data.iloc[:, 1].values"
      ],
      "metadata": {
        "id": "4Bb_sEp7YrdR"
      },
      "execution_count": 4,
      "outputs": []
    },
    {
      "cell_type": "code",
      "source": [
        "positive_idxs = np.where(labels == 1)[0]\n",
        "negative_idxs = np.where(labels == 0)[0]\n",
        "idxs = np.concatenate([positive_idxs, negative_idxs])\n",
        "undersampled_negative_idxs = np.random.choice(negative_idxs, len(positive_idxs), replace=True)\n",
        "resampled_idxs = np.concatenate([positive_idxs, undersampled_negative_idxs])\n",
        "x_train, x_test, y_train, y_test = train_test_split(vectors[resampled_idxs], labels[resampled_idxs],train_size=0.8,random_state=1, stratify=labels[resampled_idxs])"
      ],
      "metadata": {
        "id": "mECrs8-TYtTM"
      },
      "execution_count": 5,
      "outputs": []
    },
    {
      "cell_type": "code",
      "source": [
        "y_train = to_categorical(y_train)\n",
        "y_test = to_categorical(y_test)"
      ],
      "metadata": {
        "id": "aCMKeGfdYuob"
      },
      "execution_count": 6,
      "outputs": []
    },
    {
      "cell_type": "code",
      "source": [
        "dropout = 0.2\n",
        "# y_train = to_categorical(y_train)\n",
        "lr = 0.002\n",
        "batch_size = 64\n",
        "epochs = 10\n",
        "threshold = 0.5\n",
        "  \n",
        "class_weights =  class_weight.compute_class_weight(class_weight='balanced', classes=[0, 1], y=labels)\n",
        "adamax = Adamax(lr)\n",
        "model = Sequential()\n",
        "model.add(Bidirectional(LSTM(300), input_shape=(vectors.shape[1], vectors.shape[2])))\n",
        "model.add(ReLU())\n",
        "model.add(Dropout(dropout))\n",
        "model.add(Dense(300))\n",
        "model.add(ReLU())\n",
        "model.add(Dropout(dropout))\n",
        "model.add(Dense(2, activation='softmax'))"
      ],
      "metadata": {
        "id": "d488T0umYxyt"
      },
      "execution_count": 7,
      "outputs": []
    },
    {
      "cell_type": "code",
      "source": [
        "#Tính và lưu trữ kết quả accuracy\n",
        "model.compile(loss='binary_crossentropy', optimizer=adamax, metrics=['accuracy'])\n",
        "model.fit(x_train, y_train, epochs=epochs, batch_size=batch_size)"
      ],
      "metadata": {
        "id": "goP0mzjLYzQT",
        "outputId": "774aaeb2-69a6-4464-9579-ea116f2f6df0",
        "colab": {
          "base_uri": "https://localhost:8080/"
        }
      },
      "execution_count": 8,
      "outputs": [
        {
          "output_type": "stream",
          "name": "stdout",
          "text": [
            "Epoch 1/10\n",
            "125/125 [==============================] - 228s 2s/step - loss: 0.5060 - accuracy: 0.7351\n",
            "Epoch 2/10\n",
            "125/125 [==============================] - 215s 2s/step - loss: 0.4155 - accuracy: 0.7958\n",
            "Epoch 3/10\n",
            "125/125 [==============================] - 225s 2s/step - loss: 0.3800 - accuracy: 0.8164\n",
            "Epoch 4/10\n",
            "125/125 [==============================] - 223s 2s/step - loss: 0.3566 - accuracy: 0.8292\n",
            "Epoch 5/10\n",
            "125/125 [==============================] - 198s 2s/step - loss: 0.3383 - accuracy: 0.8413\n",
            "Epoch 6/10\n",
            "125/125 [==============================] - 209s 2s/step - loss: 0.3186 - accuracy: 0.8484\n",
            "Epoch 7/10\n",
            "125/125 [==============================] - 221s 2s/step - loss: 0.3074 - accuracy: 0.8595\n",
            "Epoch 8/10\n",
            "125/125 [==============================] - 217s 2s/step - loss: 0.2946 - accuracy: 0.8625\n",
            "Epoch 9/10\n",
            "125/125 [==============================] - 207s 2s/step - loss: 0.2820 - accuracy: 0.8705\n",
            "Epoch 10/10\n",
            "125/125 [==============================] - 187s 2s/step - loss: 0.2743 - accuracy: 0.8758\n"
          ]
        },
        {
          "output_type": "execute_result",
          "data": {
            "text/plain": [
              "<keras.callbacks.History at 0x7f173be82610>"
            ]
          },
          "metadata": {},
          "execution_count": 8
        }
      ]
    },
    {
      "cell_type": "code",
      "source": [
        "_, accuracy_test = model.evaluate(x_test, y_test)\n",
        "_, accuracy_train = model.evaluate(x_train, y_train)\n",
        "values = model.evaluate(x_test, y_test, batch_size=batch_size, verbose=1)\n",
        "predictions = (model.predict(x_test, batch_size=batch_size)).round()\n",
        "tn, fp, fn, tp = confusion_matrix(np.argmax(y_test, axis=1), np.argmax(predictions, axis=1)).ravel()\n",
        "FPR=fp / (fp + tn)\n",
        "FNR= fn / (fn + tp)\n",
        "recall = tp / (tp + fn)\n",
        "precision = tp / (tp + fp)\n",
        "F1=(2 * precision * recall) / (precision + recall)\n",
        "# storeResults(\"BLSTM\",(accuracy_train*100),(accuracy_test*100),recall*100,FPR*100,precision*100, F1*100)"
      ],
      "metadata": {
        "id": "dLUXxYxTY0oS",
        "outputId": "71c622b0-9c28-4e10-9bb0-1e9cbc4eff87",
        "colab": {
          "base_uri": "https://localhost:8080/"
        }
      },
      "execution_count": 9,
      "outputs": [
        {
          "output_type": "stream",
          "name": "stdout",
          "text": [
            "63/63 [==============================] - 17s 262ms/step - loss: 0.3208 - accuracy: 0.8675\n",
            "250/250 [==============================] - 69s 277ms/step - loss: 0.2503 - accuracy: 0.8890\n",
            "32/32 [==============================] - 13s 410ms/step - loss: 0.3208 - accuracy: 0.8675\n",
            "32/32 [==============================] - 14s 414ms/step\n"
          ]
        }
      ]
    },
    {
      "cell_type": "code",
      "source": [
        "print(tn, fp, fn, tp)"
      ],
      "metadata": {
        "id": "xlthRzD-7WkZ",
        "outputId": "879f3dd8-7f3d-4197-c862-7ac53b5b8b51",
        "colab": {
          "base_uri": "https://localhost:8080/"
        }
      },
      "execution_count": 10,
      "outputs": [
        {
          "output_type": "stream",
          "name": "stdout",
          "text": [
            "886 114 151 849\n"
          ]
        }
      ]
    },
    {
      "cell_type": "code",
      "source": [
        "print(\"Accuracy: \", (tp + tn) / (tp + tn + fp + fn))\n",
        "print('False positive rate(FPR): ', fp / (fp + tn))\n",
        "print('False negative rate(FNR): ', fn / (fn + tp))\n",
        "recall = tp / (tp + fn)\n",
        "print('Recall(TPR): ', recall)\n",
        "precision = tp / (tp + fp)\n",
        "print('Precision: ', precision)\n",
        "print('F1 score: ', (2 * precision * recall) / (precision + recall))"
      ],
      "metadata": {
        "id": "d7E2R7AB9bv2",
        "outputId": "6c14e3b8-2caa-4fdb-8e6c-f413f2c45146",
        "colab": {
          "base_uri": "https://localhost:8080/"
        }
      },
      "execution_count": 11,
      "outputs": [
        {
          "output_type": "stream",
          "name": "stdout",
          "text": [
            "Accuracy:  0.8675\n",
            "False positive rate(FPR):  0.114\n",
            "False negative rate(FNR):  0.151\n",
            "Recall(TPR):  0.849\n",
            "Precision:  0.881619937694704\n",
            "F1 score:  0.8650025471217525\n"
          ]
        }
      ]
    }
  ]
}