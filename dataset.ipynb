{
  "nbformat": 4,
  "nbformat_minor": 0,
  "metadata": {
    "colab": {
      "provenance": [],
      "include_colab_link": true
    },
    "kernelspec": {
      "name": "python3",
      "display_name": "Python 3"
    },
    "language_info": {
      "name": "python"
    }
  },
  "cells": [
    {
      "cell_type": "markdown",
      "metadata": {
        "id": "view-in-github",
        "colab_type": "text"
      },
      "source": [
        "<a href=\"https://colab.research.google.com/github/Bombbom/ML4SecurityProject/blob/main/dataset.ipynb\" target=\"_parent\"><img src=\"https://colab.research.google.com/assets/colab-badge.svg\" alt=\"Open In Colab\"/></a>"
      ]
    },
    {
      "cell_type": "markdown",
      "source": [
        "## Thu thập dataset\n"
      ],
      "metadata": {
        "id": "o3YfjsN1rqoN"
      }
    },
    {
      "cell_type": "code",
      "source": [
        "!pip install datasets\n",
        "!pip install hexbytes"
      ],
      "metadata": {
        "id": "gxy7aT6YrxJP"
      },
      "execution_count": null,
      "outputs": []
    },
    {
      "cell_type": "code",
      "source": [
        "import re\n",
        "import pandas as pd\n",
        "import seaborn as sns\n",
        "from hexbytes import HexBytes\n",
        "import matplotlib.pyplot as plt\n",
        "from datasets import load_dataset"
      ],
      "metadata": {
        "id": "14MtQSq3rx6r"
      },
      "execution_count": null,
      "outputs": []
    },
    {
      "cell_type": "code",
      "source": [
        "train_set = load_dataset(\"mwritescode/slither-audited-smart-contracts\", 'big-multilabel', split='train', ignore_verifications=True)\n",
        "# test_set = load_dataset(\"mwritescode/slither-audited-smart-contracts\", 'big-multilabel', split='test', ignore_verifications=True)\n",
        "# val_set = load_dataset(\"mwritescode/slither-audited-smart-contracts\", 'big-multilabel', split='validation', ignore_verifications=True)"
      ],
      "metadata": {
        "id": "jTxCijIrsZyo"
      },
      "execution_count": null,
      "outputs": []
    },
    {
      "cell_type": "markdown",
      "source": [
        "## Dataset info"
      ],
      "metadata": {
        "id": "nvvfGGeasfpn"
      }
    },
    {
      "cell_type": "code",
      "source": [
        "train_set.shape"
      ],
      "metadata": {
        "id": "YjIHRsk0siY8"
      },
      "execution_count": null,
      "outputs": []
    },
    {
      "cell_type": "code",
      "source": [
        "data = pd.DataFrame(train_set)"
      ],
      "metadata": {
        "id": "8i6SCGiisorR"
      },
      "execution_count": null,
      "outputs": []
    },
    {
      "cell_type": "markdown",
      "source": [
        "- 0:'access-control', 1:'arithmetic', 2:'other', 3:'reentrancy', 4:'safe', 5:'unchecked-calls'"
      ],
      "metadata": {
        "id": "jRwBWe6MtmCq"
      }
    },
    {
      "cell_type": "code",
      "source": [
        "data"
      ],
      "metadata": {
        "id": "CINU_KthspSx"
      },
      "execution_count": null,
      "outputs": []
    },
    {
      "cell_type": "code",
      "source": [
        "def remove_comments(string):\n",
        "    pattern = r\"(\\\".*?\\\"|\\'.*?\\')|(/\\*.*?\\*/|//[^\\r\\n]*$)\"\n",
        "    # first group captures quoted strings (double or single)\n",
        "    # second group captures comments (//single-line or /* multi-line */)\n",
        "    regex = re.compile(pattern, re.MULTILINE|re.DOTALL)\n",
        "    def _replacer(match):\n",
        "        # if the 2nd group is not None, then we have captured a real comment string.\n",
        "        if match.group(2) is not None:\n",
        "            return \"\" \n",
        "        else: # otherwise, we will return the 1st group\n",
        "            return match.group(1) \n",
        "    return regex.sub(_replacer, string)"
      ],
      "metadata": {
        "id": "JfVD0HHPssjv"
      },
      "execution_count": null,
      "outputs": []
    },
    {
      "cell_type": "code",
      "source": [
        "column = [\"address\", \"source_code\",\"bytecode\",\t\"slither\",\"access-control\", \"arithmetic\", \"other\", \"reentrancy\", \"safe\", \"unchecked-calls\"]\n",
        "df = pd.DataFrame(columns = column)"
      ],
      "metadata": {
        "id": "9DB5EUczszdW"
      },
      "execution_count": null,
      "outputs": []
    },
    {
      "cell_type": "code",
      "source": [
        "for i in range(len(data)):\n",
        "  row = list(data.loc[i])\n",
        "  # print(list(row))\n",
        "  label = row[3]\n",
        "  vul = [0,0,0,0,0,0]\n",
        "  for i in label:\n",
        "    vul[i]=1\n",
        "  row.extend(vul)\n",
        "  length = len(df)\n",
        "  df.loc[length] = row"
      ],
      "metadata": {
        "id": "aoQCbpmWs03W"
      },
      "execution_count": null,
      "outputs": []
    },
    {
      "cell_type": "code",
      "source": [
        "df.to_csv('/content/drive/MyDrive/DACN/slither-audited-smart-contracts/train_set_big_multilabel_exploid.csv',index=False)"
      ],
      "metadata": {
        "id": "EFFxwUycs2TO"
      },
      "execution_count": null,
      "outputs": []
    },
    {
      "cell_type": "code",
      "source": [
        "df"
      ],
      "metadata": {
        "id": "guETcX3Ys3gl"
      },
      "execution_count": null,
      "outputs": []
    },
    {
      "cell_type": "markdown",
      "source": [
        "## Create dataset.txt"
      ],
      "metadata": {
        "id": "96vQbZ3Itvev"
      }
    },
    {
      "cell_type": "code",
      "source": [
        "count = 0\n",
        "f_w = open(\"/content/drive/MyDrive/DACN/dataset.txt\", \"a\")\n",
        "\n",
        "for i in range(len(data)):\n",
        "    row = list(data.loc[i])\n",
        "    name = row[0] + \".sol\"\n",
        "    label = row[6] #reentrancy \n",
        "    count +=1\n",
        "    f_w.write(str(count)+ \" \" + str(name) + \"\\n\")\n",
        "    f_w.write(str(name)+\"\\n\")\n",
        "    codes = []\n",
        "    f = open(\"/content/drive/MyDrive/DACN/source_code/\" + row[0] + \".sol\", \"r\")\n",
        "    lines =f.readlines()\n",
        "    for line in lines:\n",
        "        text = line.strip()\n",
        "        if text!= \"\":\n",
        "            codes.append(text)\n",
        "    \n",
        "    for k in range(0,len(codes)):\n",
        "        f_w.write(codes[k] + \"\\n\")\n",
        "    \n",
        "    f_w.write(str(label)+\"\\n\")\n",
        "    f_w.write(\"---------------------------------\" + \"\\n\")"
      ],
      "metadata": {
        "id": "FHjcCpugtvHk"
      },
      "execution_count": null,
      "outputs": []
    },
    {
      "cell_type": "markdown",
      "source": [
        "## Dataset (code snippet)"
      ],
      "metadata": {
        "id": "VaWW-J7KZs7e"
      }
    },
    {
      "cell_type": "code",
      "source": [],
      "metadata": {
        "id": "C-PMpZ07ZpQC"
      },
      "execution_count": null,
      "outputs": []
    }
  ]
}