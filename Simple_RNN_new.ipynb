{
  "nbformat": 4,
  "nbformat_minor": 0,
  "metadata": {
    "colab": {
      "provenance": [],
      "include_colab_link": true
    },
    "kernelspec": {
      "name": "python3",
      "display_name": "Python 3"
    },
    "language_info": {
      "name": "python"
    }
  },
  "cells": [
    {
      "cell_type": "markdown",
      "metadata": {
        "id": "view-in-github",
        "colab_type": "text"
      },
      "source": [
        "<a href=\"https://colab.research.google.com/github/Bombbom/ML4SecurityProject/blob/main/Simple_RNN_new.ipynb\" target=\"_parent\"><img src=\"https://colab.research.google.com/assets/colab-badge.svg\" alt=\"Open In Colab\"/></a>"
      ]
    },
    {
      "cell_type": "markdown",
      "source": [
        "# Simple RNN"
      ],
      "metadata": {
        "id": "P0vUrcRqXT05"
      }
    },
    {
      "cell_type": "code",
      "source": [
        "from google.colab import drive\n",
        "drive.mount('/content/drive')"
      ],
      "metadata": {
        "id": "aW-bLsE3FBgo",
        "outputId": "d0918497-812c-42af-de5e-f27321cafd9a",
        "colab": {
          "base_uri": "https://localhost:8080/"
        }
      },
      "execution_count": 1,
      "outputs": [
        {
          "output_type": "stream",
          "name": "stdout",
          "text": [
            "Mounted at /content/drive\n"
          ]
        }
      ]
    },
    {
      "cell_type": "code",
      "source": [
        "import pandas as pd\n",
        "# vector_filename =\"/home/bombbom/Desktop/ReChecker/reentrancy_1671_fragment_vectors.pkl\"\n",
        "vector_filename = \"/content/drive/MyDrive/Submit/NT522_Project/dataset_10000_record_fixednew_fragment_vectors.pkl\"\n",
        "data = pd.read_pickle(vector_filename)"
      ],
      "metadata": {
        "id": "3SPvpcxmXThC"
      },
      "execution_count": 2,
      "outputs": []
    },
    {
      "cell_type": "code",
      "source": [
        "from __future__ import print_function\n",
        "\n",
        "import warnings\n",
        "import numpy as np\n",
        "# from keras.utils import to_categorical\n",
        "# from sklearn.metrics import confusion_matrix\n",
        "# from sklearn.utils import compute_class_weight\n",
        "# from keras.models import Sequential\n",
        "# from keras.layers import Dense, Dropout, LSTM, ReLU, Activation\n",
        "# from keras.layers.recurrent import SimpleRNN\n",
        "# from keras.layers import SimpleRNN\n",
        "# from keras.optimizers import Adamax\n",
        "# from sklearn.model_selection import train_test_split\n",
        "# from parser import parameter_parser\n",
        "\n",
        "\n",
        "from tensorflow.keras.models import Sequential \n",
        "from tensorflow.keras.layers import Embedding, SimpleRNN, Dense, Dropout, LSTM, ReLU, Activation\n",
        "from sklearn.model_selection import train_test_split\n",
        "from tensorflow.keras.optimizers import Adamax\n",
        "# from sklearn.utils import compute_class_weight\n",
        "from keras.utils import to_categorical\n",
        "from sklearn.metrics import confusion_matrix\n",
        "from sklearn.utils import class_weight"
      ],
      "metadata": {
        "id": "nfDyyrPQXgXb"
      },
      "execution_count": 3,
      "outputs": []
    },
    {
      "cell_type": "code",
      "source": [
        "vectors = np.stack(data.iloc[:, 0].values)\n",
        "# vectors = vectors.reshape()\n",
        "labels = data.iloc[:, 1].values"
      ],
      "metadata": {
        "id": "saRGH4pXXkGA"
      },
      "execution_count": 4,
      "outputs": []
    },
    {
      "cell_type": "code",
      "source": [
        "x_train, x_test, y_train, y_test = train_test_split(vectors, labels,train_size=0.8,random_state=1)"
      ],
      "metadata": {
        "id": "PC2L23V_KstM"
      },
      "execution_count": 5,
      "outputs": []
    },
    {
      "cell_type": "code",
      "source": [
        "positive_idxs = np.where(labels == 1)[0]\n",
        "negative_idxs = np.where(labels == 0)[0]\n",
        "idxs = np.concatenate([positive_idxs, negative_idxs])\n",
        "undersampled_negative_idxs = np.random.choice(negative_idxs, len(positive_idxs), replace=False)\n",
        "resampled_idxs = np.concatenate([positive_idxs, undersampled_negative_idxs])\n",
        "x_train, x_test, y_train, y_test = train_test_split(vectors[resampled_idxs], labels[resampled_idxs],train_size=0.8,random_state=1, stratify=labels[resampled_idxs])"
      ],
      "metadata": {
        "id": "HBX9vUjPXlsE"
      },
      "execution_count": null,
      "outputs": []
    },
    {
      "cell_type": "code",
      "source": [
        "y_train = to_categorical(y_train)\n",
        "y_test = to_categorical(y_test)"
      ],
      "metadata": {
        "id": "ZHD1xQDSXm8c"
      },
      "execution_count": null,
      "outputs": []
    },
    {
      "cell_type": "code",
      "source": [
        "y_train[:10]"
      ],
      "metadata": {
        "id": "3BaDv0ZPHg9o",
        "outputId": "a8952671-8be0-45af-bf7e-28ebd05edd41",
        "colab": {
          "base_uri": "https://localhost:8080/"
        }
      },
      "execution_count": null,
      "outputs": [
        {
          "output_type": "execute_result",
          "data": {
            "text/plain": [
              "array([[0., 1.],\n",
              "       [0., 1.],\n",
              "       [0., 1.],\n",
              "       [0., 1.],\n",
              "       [0., 1.],\n",
              "       [1., 0.],\n",
              "       [0., 1.],\n",
              "       [0., 1.],\n",
              "       [1., 0.],\n",
              "       [1., 0.]], dtype=float32)"
            ]
          },
          "metadata": {},
          "execution_count": 7
        }
      ]
    },
    {
      "cell_type": "code",
      "source": [
        "dropout = 0.2\n",
        "# y_train = to_categorical(y_train)\n",
        "lr = 0.002\n",
        "batch_size = 64\n",
        "epochs = 10\n",
        "threshold = 0.5\n",
        "# def create_model():\n",
        "#     model = Sequential()\n",
        "#     model.add(SimpleRNN(300, input_shape=(vectors.shape[1], vectors.shape[2])))\n",
        "#     model.add(ReLU())\n",
        "#     model.add(Dropout(dropout))\n",
        "#     model.add(Dense(300))\n",
        "#     model.add(ReLU())\n",
        "#     model.add(Dropout(dropout))\n",
        "#     model.add(Dense(2, activation='softmax'))\n",
        "#     return model\n",
        "class_weights =  class_weight.compute_class_weight(class_weight='balanced', classes=[0, 1], y=labels)\n",
        "adamax = Adamax(lr)\n",
        "model = Sequential()\n",
        "model.add(SimpleRNN(300, input_shape=(vectors.shape[1], vectors.shape[2])))\n",
        "model.add(ReLU())\n",
        "model.add(Dropout(dropout))\n",
        "model.add(Dense(300))\n",
        "model.add(ReLU())\n",
        "model.add(Dropout(dropout))\n",
        "model.add(Dense(1, activation='sigmoid'))\n"
      ],
      "metadata": {
        "id": "b10l_BBgXwk5"
      },
      "execution_count": 7,
      "outputs": []
    },
    {
      "cell_type": "code",
      "source": [
        "model.summary()"
      ],
      "metadata": {
        "id": "ElT3o5vqFU_U",
        "outputId": "975f7d67-c3b4-4e40-c893-8b95edbafdfa",
        "colab": {
          "base_uri": "https://localhost:8080/"
        }
      },
      "execution_count": 8,
      "outputs": [
        {
          "output_type": "stream",
          "name": "stdout",
          "text": [
            "Model: \"sequential_1\"\n",
            "_________________________________________________________________\n",
            " Layer (type)                Output Shape              Param #   \n",
            "=================================================================\n",
            " simple_rnn_1 (SimpleRNN)    (None, 300)               180300    \n",
            "                                                                 \n",
            " re_lu_2 (ReLU)              (None, 300)               0         \n",
            "                                                                 \n",
            " dropout_2 (Dropout)         (None, 300)               0         \n",
            "                                                                 \n",
            " dense_2 (Dense)             (None, 300)               90300     \n",
            "                                                                 \n",
            " re_lu_3 (ReLU)              (None, 300)               0         \n",
            "                                                                 \n",
            " dropout_3 (Dropout)         (None, 300)               0         \n",
            "                                                                 \n",
            " dense_3 (Dense)             (None, 1)                 301       \n",
            "                                                                 \n",
            "=================================================================\n",
            "Total params: 270,901\n",
            "Trainable params: 270,901\n",
            "Non-trainable params: 0\n",
            "_________________________________________________________________\n"
          ]
        }
      ]
    },
    {
      "cell_type": "code",
      "source": [
        "model.compile(loss='binary_crossentropy', optimizer=adamax, metrics=['accuracy'])\n",
        "model.fit(x_train, y_train, epochs=epochs, batch_size=batch_size)"
      ],
      "metadata": {
        "id": "FeFqStmHXx-Y",
        "outputId": "f7e2253f-b260-4a0f-f765-645b31cd8d8f",
        "colab": {
          "base_uri": "https://localhost:8080/"
        }
      },
      "execution_count": 9,
      "outputs": [
        {
          "output_type": "stream",
          "name": "stdout",
          "text": [
            "Epoch 1/10\n",
            "125/125 [==============================] - 34s 259ms/step - loss: 0.5289 - accuracy: 0.7034\n",
            "Epoch 2/10\n",
            "125/125 [==============================] - 30s 242ms/step - loss: 0.4736 - accuracy: 0.7429\n",
            "Epoch 3/10\n",
            "125/125 [==============================] - 29s 233ms/step - loss: 0.4527 - accuracy: 0.7591\n",
            "Epoch 4/10\n",
            "125/125 [==============================] - 29s 233ms/step - loss: 0.4330 - accuracy: 0.7710\n",
            "Epoch 5/10\n",
            "125/125 [==============================] - 29s 231ms/step - loss: 0.4293 - accuracy: 0.7738\n",
            "Epoch 6/10\n",
            "125/125 [==============================] - 29s 229ms/step - loss: 0.4073 - accuracy: 0.7869\n",
            "Epoch 7/10\n",
            "125/125 [==============================] - 31s 249ms/step - loss: 0.3998 - accuracy: 0.7893\n",
            "Epoch 8/10\n",
            "125/125 [==============================] - 28s 227ms/step - loss: 0.3852 - accuracy: 0.7984\n",
            "Epoch 9/10\n",
            "125/125 [==============================] - 28s 227ms/step - loss: 0.3746 - accuracy: 0.8056\n",
            "Epoch 10/10\n",
            "125/125 [==============================] - 29s 230ms/step - loss: 0.3672 - accuracy: 0.8109\n"
          ]
        },
        {
          "output_type": "execute_result",
          "data": {
            "text/plain": [
              "<keras.callbacks.History at 0x7fa41abbc9a0>"
            ]
          },
          "metadata": {},
          "execution_count": 9
        }
      ]
    },
    {
      "cell_type": "code",
      "source": [
        "# evaluate the keras model\n",
        "_, accuracy = model.evaluate(x_test, y_test)\n",
        "print('Accuracy: %.2f' % (accuracy*100))"
      ],
      "metadata": {
        "id": "FR05OSd7Xzen",
        "outputId": "ccda9f00-71b2-4e18-b7ef-1256ffcafa8a",
        "colab": {
          "base_uri": "https://localhost:8080/"
        }
      },
      "execution_count": 10,
      "outputs": [
        {
          "output_type": "stream",
          "name": "stdout",
          "text": [
            "63/63 [==============================] - 4s 66ms/step - loss: 0.4071 - accuracy: 0.7970\n",
            "Accuracy: 79.70\n"
          ]
        }
      ]
    },
    {
      "cell_type": "code",
      "source": [
        "predictions = (model.predict(x_test, batch_size=batch_size)).round()\n",
        "# predictions = (predictions >= threshold)"
      ],
      "metadata": {
        "id": "yeQ1JMi1X0kF",
        "outputId": "9f71a750-2c08-462a-b377-ef084e3cb59b",
        "colab": {
          "base_uri": "https://localhost:8080/"
        }
      },
      "execution_count": 53,
      "outputs": [
        {
          "output_type": "stream",
          "name": "stdout",
          "text": [
            "32/32 [==============================] - 3s 92ms/step\n"
          ]
        }
      ]
    },
    {
      "cell_type": "code",
      "source": [
        "predictions.ravel()"
      ],
      "metadata": {
        "id": "R1hLBb3hNUPf",
        "outputId": "1377497d-c5a9-436f-b2d1-42da91da1967",
        "colab": {
          "base_uri": "https://localhost:8080/"
        }
      },
      "execution_count": 55,
      "outputs": [
        {
          "output_type": "execute_result",
          "data": {
            "text/plain": [
              "array([0., 0., 0., ..., 1., 0., 0.], dtype=float32)"
            ]
          },
          "metadata": {},
          "execution_count": 55
        }
      ]
    },
    {
      "cell_type": "code",
      "source": [
        "del predictions"
      ],
      "metadata": {
        "id": "RzXtG9PHQgJ0"
      },
      "execution_count": 50,
      "outputs": []
    },
    {
      "cell_type": "code",
      "source": [
        "y_test"
      ],
      "metadata": {
        "id": "2YqZ1vCeN_UG",
        "outputId": "718c553d-4ea7-4e93-9ccc-ad056d30e50f",
        "colab": {
          "base_uri": "https://localhost:8080/"
        }
      },
      "execution_count": 46,
      "outputs": [
        {
          "output_type": "execute_result",
          "data": {
            "text/plain": [
              "array([1, 0, 0, ..., 1, 0, 0])"
            ]
          },
          "metadata": {},
          "execution_count": 46
        }
      ]
    },
    {
      "cell_type": "code",
      "source": [
        "tn, fp, fn, tp = confusion_matrix(y_test, predictions).ravel()"
      ],
      "metadata": {
        "id": "cbhhxTFxX3Ae"
      },
      "execution_count": 56,
      "outputs": []
    },
    {
      "cell_type": "code",
      "source": [
        "print(\"Accuracy: \", (tp + tn) / (tp + tn + fp + fn))\n",
        "print('False positive rate(FPR): ', fp / (fp + tn))\n",
        "print('False negative rate(FNR): ', fn / (fn + tp))\n",
        "recall = tp / (tp + fn)\n",
        "print('Recall(TPR): ', recall)\n",
        "precision = tp / (tp + fp)\n",
        "print('Precision: ', precision)\n",
        "print('F1 score: ', (2 * precision * recall) / (precision + recall))"
      ],
      "metadata": {
        "id": "Wb48xzrwX4mT",
        "outputId": "bd6907c1-7c2e-4e03-8fd3-8b2218173eb5",
        "colab": {
          "base_uri": "https://localhost:8080/"
        }
      },
      "execution_count": 57,
      "outputs": [
        {
          "output_type": "stream",
          "name": "stdout",
          "text": [
            "Accuracy:  0.797\n",
            "False positive rate(FPR):  0.11753183153770813\n",
            "False negative rate(FNR):  0.29213483146067415\n",
            "Recall(TPR):  0.7078651685393258\n",
            "Precision:  0.8523985239852399\n",
            "F1 score:  0.7734375\n"
          ]
        }
      ]
    },
    {
      "cell_type": "code",
      "source": [
        "from sklearn.metrics import roc_curve, auc\n",
        "y_pred = model.predict(x_test).round().ravel()\n",
        "fpr, tpr, threshold = roc_curve(y_test, y_pred)"
      ],
      "metadata": {
        "id": "W6tPKAhYOg4a",
        "outputId": "c34ae826-b110-446c-fb26-08a24fdecb25",
        "colab": {
          "base_uri": "https://localhost:8080/"
        }
      },
      "execution_count": 32,
      "outputs": [
        {
          "output_type": "stream",
          "name": "stdout",
          "text": [
            "63/63 [==============================] - 4s 66ms/step\n"
          ]
        }
      ]
    },
    {
      "cell_type": "code",
      "source": [
        "from matplotlib import pyplot\n",
        "pyplot.plot(fpr, tpr, marker='.', label='rnn')\n",
        "# axis labels\n",
        "pyplot.xlabel('False Positive Rate')\n",
        "pyplot.ylabel('True Positive Rate')\n",
        "# show the legend\n",
        "pyplot.legend()\n",
        "# show the plot\n",
        "pyplot.show()"
      ],
      "metadata": {
        "id": "8UX0U4f1O5to",
        "outputId": "60fbc038-6397-4447-df96-47be3c72bb9c",
        "colab": {
          "base_uri": "https://localhost:8080/",
          "height": 279
        }
      },
      "execution_count": 33,
      "outputs": [
        {
          "output_type": "display_data",
          "data": {
            "text/plain": [
              "<Figure size 432x288 with 1 Axes>"
            ],
            "image/png": "[encoded data removed]"
          },
          "metadata": {
            "needs_background": "light"
          }
        }
      ]
    },
    {
      "cell_type": "code",
      "source": [
        "from sklearn.metrics import roc_curve, auc\n",
        "fpr_list = []\n",
        "tpr_list = []\n",
        "threshold_list = []\n",
        "roc_auc_list = []\n",
        "y_pred = model.predict(x_test)\n",
        "for i in range(2): # you can make this more general\n",
        "    fpr, tpr, threshold = roc_curve(y_test[:, i], y_pred[:, i])\n",
        "    roc_auc = auc(fpr, tpr)\n",
        "    \n",
        "    fpr_list.append(fpr)\n",
        "    tpr_list.append(tpr)\n",
        "    threshold_list.append(threshold)\n",
        "    roc_auc_list.append(roc_auc)"
      ],
      "metadata": {
        "id": "MG8I88CZELbr",
        "outputId": "d901711f-087e-481f-9312-0217905f6624",
        "colab": {
          "base_uri": "https://localhost:8080/"
        }
      },
      "execution_count": null,
      "outputs": [
        {
          "output_type": "stream",
          "name": "stdout",
          "text": [
            "63/63 [==============================] - 4s 63ms/step\n"
          ]
        }
      ]
    },
    {
      "cell_type": "code",
      "source": [
        "fpr_list"
      ],
      "metadata": {
        "id": "x2pCz6JuFTuO",
        "outputId": "29447b64-9cc3-4784-a0c8-ac1fab5ed797",
        "colab": {
          "base_uri": "https://localhost:8080/"
        }
      },
      "execution_count": null,
      "outputs": [
        {
          "output_type": "execute_result",
          "data": {
            "text/plain": [
              "[array([0.   , 0.   , 0.   , 0.   , 0.   , 0.   , 0.   , 0.   , 0.001,\n",
              "        0.001, 0.001, 0.001, 0.001, 0.001, 0.001, 0.001, 0.001, 0.001,\n",
              "        0.001, 0.001, 0.001, 0.001, 0.001, 0.001, 0.001, 0.001, 0.002,\n",
              "        0.002, 0.002, 0.002, 0.003, 0.003, 0.003, 0.003, 0.003, 0.003,\n",
              "        0.003, 0.003, 0.004, 0.004, 0.004, 0.005, 0.005, 0.006, 0.006,\n",
              "        0.006, 0.006, 0.007, 0.007, 0.008, 0.008, 0.008, 0.008, 0.008,\n",
              "        0.008, 0.008, 0.008, 0.008, 0.008, 0.008, 0.009, 0.011, 0.014,\n",
              "        0.014, 0.014, 0.014, 0.014, 0.014, 0.014, 0.014, 0.014, 0.014,\n",
              "        0.014, 0.015, 0.015, 0.015, 0.015, 0.015, 0.016, 0.016, 0.016,\n",
              "        0.016, 0.016, 0.016, 0.017, 0.017, 0.018, 0.018, 0.018, 0.018,\n",
              "        0.018, 0.019, 0.019, 0.02 , 0.02 , 0.021, 0.021, 0.021, 0.021,\n",
              "        0.025, 0.026, 0.026, 0.028, 0.028, 0.028, 0.028, 0.029, 0.029,\n",
              "        0.03 , 0.03 , 0.031, 0.031, 0.031, 0.032, 0.032, 0.033, 0.033,\n",
              "        0.033, 0.033, 0.034, 0.034, 0.035, 0.035, 0.036, 0.036, 0.037,\n",
              "        0.037, 0.04 , 0.04 , 0.04 , 0.04 , 0.04 , 0.04 , 0.04 , 0.042,\n",
              "        0.042, 0.042, 0.042, 0.042, 0.042, 0.042, 0.042, 0.044, 0.044,\n",
              "        0.047, 0.047, 0.049, 0.049, 0.05 , 0.05 , 0.052, 0.053, 0.053,\n",
              "        0.054, 0.054, 0.055, 0.055, 0.056, 0.056, 0.056, 0.057, 0.057,\n",
              "        0.058, 0.059, 0.062, 0.062, 0.062, 0.062, 0.062, 0.062, 0.063,\n",
              "        0.063, 0.065, 0.065, 0.066, 0.066, 0.068, 0.068, 0.071, 0.082,\n",
              "        0.082, 0.082, 0.082, 0.083, 0.083, 0.084, 0.089, 0.09 , 0.09 ,\n",
              "        0.091, 0.092, 0.093, 0.093, 0.094, 0.094, 0.095, 0.095, 0.096,\n",
              "        0.096, 0.099, 0.101, 0.101, 0.102, 0.102, 0.105, 0.105, 0.106,\n",
              "        0.111, 0.112, 0.112, 0.113, 0.113, 0.114, 0.115, 0.117, 0.118,\n",
              "        0.118, 0.205, 0.206, 0.208, 0.208, 0.209, 0.231, 0.231, 0.233,\n",
              "        0.234, 0.234, 0.238, 0.238, 0.241, 0.241, 0.241, 0.241, 0.242,\n",
              "        0.242, 0.244, 0.244, 0.245, 0.251, 0.252, 0.254, 0.26 , 0.262,\n",
              "        0.262, 0.263, 0.266, 0.266, 0.269, 0.269, 0.271, 0.271, 0.275,\n",
              "        0.275, 0.28 , 0.281, 0.281, 0.283, 0.289, 0.29 , 0.291, 0.291,\n",
              "        0.3  , 0.306, 0.307, 0.307, 0.308, 0.308, 0.309, 0.309, 0.309,\n",
              "        0.312, 0.312, 0.313, 0.314, 0.314, 0.314, 0.315, 0.315, 0.322,\n",
              "        0.325, 0.325, 0.327, 0.329, 0.331, 0.332, 0.332, 0.335, 0.337,\n",
              "        0.343, 0.343, 0.348, 0.348, 0.351, 0.353, 0.353, 0.353, 0.353,\n",
              "        0.354, 0.354, 0.357, 0.357, 0.362, 0.39 , 0.403, 0.406, 0.406,\n",
              "        0.408, 0.408, 0.408, 0.409, 0.409, 0.41 , 0.412, 0.412, 0.414,\n",
              "        0.414, 0.416, 0.416, 0.419, 0.421, 0.421, 0.423, 0.423, 0.424,\n",
              "        0.424, 0.43 , 0.43 , 0.433, 0.433, 0.435, 0.437, 0.449, 0.449,\n",
              "        0.451, 0.451, 0.455, 0.455, 0.459, 0.461, 0.475, 0.475, 0.479,\n",
              "        0.481, 0.485, 0.486, 0.489, 0.489, 0.492, 0.493, 0.494, 0.494,\n",
              "        0.501, 0.501, 0.503, 0.503, 0.505, 0.509, 0.514, 0.516, 0.517,\n",
              "        0.519, 0.523, 0.523, 0.525, 0.527, 0.53 , 0.532, 0.543, 0.545,\n",
              "        0.547, 0.549, 0.553, 0.554, 0.554, 0.557, 0.557, 0.559, 0.56 ,\n",
              "        0.562, 0.568, 0.578, 0.584, 0.586, 0.586, 0.587, 0.589, 0.591,\n",
              "        0.593, 0.596, 0.597, 0.597, 0.599, 0.602, 0.605, 0.607, 0.614,\n",
              "        0.617, 0.62 , 0.628, 0.63 , 0.631, 0.631, 0.632, 0.635, 0.637,\n",
              "        0.661, 0.665, 0.669, 0.674, 0.676, 0.68 , 0.688, 0.691, 0.693,\n",
              "        0.708, 0.711, 0.712, 0.716, 0.717, 0.725, 0.734, 0.746, 0.777,\n",
              "        0.802, 0.99 , 0.992, 0.993, 0.995, 1.   ]),\n",
              " array([0.   , 0.   , 0.   , 0.   , 0.   , 0.   , 0.   , 0.   , 0.   ,\n",
              "        0.   , 0.   , 0.   , 0.   , 0.   , 0.   , 0.   , 0.   , 0.   ,\n",
              "        0.001, 0.001, 0.001, 0.001, 0.001, 0.001, 0.001, 0.001, 0.002,\n",
              "        0.002, 0.004, 0.005, 0.005, 0.005, 0.006, 0.006, 0.006, 0.006,\n",
              "        0.007, 0.007, 0.008, 0.008, 0.008, 0.008, 0.008, 0.008, 0.008,\n",
              "        0.008, 0.008, 0.008, 0.008, 0.008, 0.008, 0.01 , 0.011, 0.011,\n",
              "        0.011, 0.011, 0.011, 0.013, 0.013, 0.014, 0.014, 0.014, 0.014,\n",
              "        0.015, 0.015, 0.016, 0.016, 0.018, 0.018, 0.018, 0.019, 0.019,\n",
              "        0.019, 0.019, 0.021, 0.021, 0.021, 0.021, 0.022, 0.022, 0.023,\n",
              "        0.023, 0.024, 0.026, 0.026, 0.028, 0.029, 0.029, 0.031, 0.031,\n",
              "        0.034, 0.034, 0.035, 0.035, 0.036, 0.036, 0.041, 0.041, 0.042,\n",
              "        0.042, 0.043, 0.043, 0.044, 0.046, 0.046, 0.051, 0.054, 0.054,\n",
              "        0.055, 0.055, 0.069, 0.07 , 0.07 , 0.071, 0.072, 0.073, 0.074,\n",
              "        0.079, 0.079, 0.081, 0.081, 0.082, 0.085, 0.088, 0.088, 0.089,\n",
              "        0.089, 0.09 , 0.09 , 0.09 , 0.091, 0.095, 0.095, 0.096, 0.099,\n",
              "        0.102, 0.102, 0.103, 0.104, 0.104, 0.107, 0.108, 0.108, 0.109,\n",
              "        0.109, 0.11 , 0.11 , 0.112, 0.112, 0.112, 0.119, 0.122, 0.124,\n",
              "        0.125, 0.125, 0.126, 0.127, 0.127, 0.128, 0.128, 0.131, 0.132,\n",
              "        0.132, 0.133, 0.133, 0.134, 0.134, 0.135, 0.135, 0.137, 0.139,\n",
              "        0.14 , 0.14 , 0.144, 0.144, 0.145, 0.146, 0.146, 0.147, 0.147,\n",
              "        0.151, 0.159, 0.159, 0.161, 0.161, 0.162, 0.162, 0.163, 0.165,\n",
              "        0.167, 0.167, 0.174, 0.175, 0.175, 0.177, 0.202, 0.215, 0.215,\n",
              "        0.22 , 0.22 , 0.222, 0.223, 0.223, 0.226, 0.348, 0.356, 0.356,\n",
              "        0.359, 0.359, 0.359, 0.36 , 0.361, 0.364, 0.366, 0.368, 0.369,\n",
              "        0.374, 0.376, 0.383, 0.384, 0.388, 0.391, 0.393, 0.393, 0.394,\n",
              "        0.396, 0.402, 0.403, 0.405, 0.405, 0.406, 0.408, 0.41 , 0.41 ,\n",
              "        0.412, 0.412, 0.413, 0.413, 0.416, 0.416, 0.418, 0.427, 0.43 ,\n",
              "        0.431, 0.431, 0.433, 0.433, 0.44 , 0.44 , 0.442, 0.443, 0.445,\n",
              "        0.449, 0.451, 0.461, 0.462, 0.462, 0.463, 0.463, 0.465, 0.466,\n",
              "        0.468, 0.468, 0.472, 0.477, 0.478, 0.481, 0.485, 0.485, 0.487,\n",
              "        0.489, 0.49 , 0.49 , 0.491, 0.492, 0.494, 0.496, 0.496, 0.497,\n",
              "        0.497, 0.502, 0.503, 0.505, 0.505, 0.506, 0.506, 0.508, 0.508,\n",
              "        0.512, 0.518, 0.52 , 0.521, 0.523, 0.524, 0.525, 0.527, 0.533,\n",
              "        0.537, 0.541, 0.544, 0.546, 0.549, 0.551, 0.551, 0.559, 0.562,\n",
              "        0.564, 0.564, 0.565, 0.565, 0.57 , 0.57 , 0.572, 0.572, 0.573,\n",
              "        0.573, 0.575, 0.581, 0.584, 0.584, 0.585, 0.587, 0.587, 0.589,\n",
              "        0.591, 0.591, 0.592, 0.592, 0.595, 0.595, 0.597, 0.603, 0.605,\n",
              "        0.611, 0.614, 0.614, 0.626, 0.633, 0.634, 0.638, 0.641, 0.642,\n",
              "        0.642, 0.644, 0.644, 0.645, 0.645, 0.66 , 0.662, 0.662, 0.663,\n",
              "        0.663, 0.665, 0.667, 0.672, 0.675, 0.677, 0.679, 0.679, 0.682,\n",
              "        0.685, 0.694, 0.694, 0.696, 0.705, 0.709, 0.714, 0.718, 0.72 ,\n",
              "        0.733, 0.733, 0.741, 0.744, 0.746, 0.765, 0.766, 0.77 , 0.774,\n",
              "        0.778, 0.786, 0.786, 0.788, 0.788, 0.789, 0.791, 0.792, 0.792,\n",
              "        0.794, 0.794, 0.796, 0.797, 0.803, 0.804, 0.806, 0.807, 0.809,\n",
              "        0.815, 0.815, 0.819, 0.822, 0.825, 0.829, 0.832, 0.836, 0.838,\n",
              "        0.841, 0.842, 0.847, 0.849, 0.85 , 0.854, 0.858, 0.86 , 0.865,\n",
              "        0.867, 0.869, 0.872, 0.873, 0.878, 0.88 , 0.883, 0.884, 0.884,\n",
              "        0.885, 0.888, 0.902, 0.904, 0.905, 0.909, 0.91 , 0.934, 0.955,\n",
              "        0.977, 0.98 , 0.982, 0.987, 0.99 , 1.   ])]"
            ]
          },
          "metadata": {},
          "execution_count": 26
        }
      ]
    },
    {
      "cell_type": "code",
      "source": [
        "from matplotlib import pyplot\n",
        "pyplot.plot(fpr_list[1], tpr_list[1], marker='.', label='rnn')\n",
        "# axis labels\n",
        "pyplot.xlabel('False Positive Rate')\n",
        "pyplot.ylabel('True Positive Rate')\n",
        "# show the legend\n",
        "pyplot.legend()\n",
        "# show the plot\n",
        "pyplot.show()"
      ],
      "metadata": {
        "id": "PgMXs4LpGQ6k",
        "outputId": "fa7b02c4-f89a-478b-d78e-1bfe4b18825e",
        "colab": {
          "base_uri": "https://localhost:8080/",
          "height": 279
        }
      },
      "execution_count": null,
      "outputs": [
        {
          "output_type": "display_data",
          "data": {
            "text/plain": [
              "<Figure size 432x288 with 1 Axes>"
            ],
            "image/png": "[encoded data removed]"
          },
          "metadata": {
            "needs_background": "light"
          }
        }
      ]
    }
  ]
}